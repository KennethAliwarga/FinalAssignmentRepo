{
 "cells": [
  {
   "cell_type": "markdown",
   "id": "197d7d2f-9d20-4b09-a5f3-64bfee28f2d5",
   "metadata": {},
   "source": [
    "# Data Science Tools and Ecosystem"
   ]
  },
  {
   "cell_type": "markdown",
   "id": "3f273948-cd1f-47cf-be6a-8f4884022846",
   "metadata": {},
   "source": [
    "In this notebook, Data Science Tools and Ecosystem are summarized."
   ]
  },
  {
   "cell_type": "markdown",
   "id": "84d3c1a5-e45a-4bfc-9469-75f69951842f",
   "metadata": {},
   "source": [
    "Some of the popular languages that Data Scientists use are:\n",
    "\n",
    "1. Python\n",
    "2. R\n",
    "3. SQL"
   ]
  },
  {
   "cell_type": "markdown",
   "id": "e6f50652-baa1-4f91-a1de-87e74a6a4abc",
   "metadata": {},
   "source": [
    "Some of the commonly used libraries used by Data Scientists include:\n",
    "\n",
    "1. Pandas\n",
    "2. NumPy\n",
    "3. TensorFlow"
   ]
  },
  {
   "cell_type": "markdown",
   "id": "d05ee7fa-2e0e-4d0e-b3ac-865fe89fce8b",
   "metadata": {},
   "source": [
    "| Data Science Tools          |\n",
    "|-----------------------------|\n",
    "| Jupyter Notebook            |\n",
    "| RStudio                     |\n",
    "| Anaconda GUI                |"
   ]
  },
  {
   "cell_type": "markdown",
   "id": "1307b615-11dc-4a09-b8f2-5fcdf4320f4a",
   "metadata": {},
   "source": [
    "###  Below are a few examples of evaluating arithmetic expressions in Python"
   ]
  },
  {
   "cell_type": "code",
   "execution_count": 5,
   "id": "73ef7630-2128-4e9c-bf81-dfd740e821cc",
   "metadata": {},
   "outputs": [
    {
     "name": "stdout",
     "output_type": "stream",
     "text": [
      "17\n"
     ]
    }
   ],
   "source": [
    "# This is a simple arithmetic expression to multiply then add integers\n",
    "result = (3 * 4) + 5\n",
    "print (result)"
   ]
  },
  {
   "cell_type": "code",
   "execution_count": 6,
   "id": "f119624f-6205-4b03-aa72-ce5358261656",
   "metadata": {},
   "outputs": [
    {
     "name": "stdout",
     "output_type": "stream",
     "text": [
      "3.3333333333333335\n"
     ]
    }
   ],
   "source": [
    "# This will convert 200 minutes to hours by diving by 60\n",
    "minutes = 200\n",
    "hours = minutes / 60\n",
    "print (hours)"
   ]
  },
  {
   "cell_type": "markdown",
   "id": "72fa01b4-f253-4f4b-a810-39bcfc74f174",
   "metadata": {},
   "source": [
    "**Objectives:**\n",
    "\n",
    "- List popular languages for Data Science\n",
    "- Identify commonly used libraries for Data Science\n",
    "- Create and interpret tables of Data Science tools\n",
    "- Evaluate simple arithmetic expressions in Python\n",
    "- Convert time units between minutes and hours"
   ]
  },
  {
   "cell_type": "markdown",
   "id": "23e03085-05be-4654-bb57-e80e6fb66266",
   "metadata": {},
   "source": [
    "## Author\n",
    "Kenneth Aliwarga"
   ]
  },
  {
   "cell_type": "code",
   "execution_count": null,
   "id": "a2154f9d-8251-486a-814b-192232051fdf",
   "metadata": {},
   "outputs": [],
   "source": []
  }
 ],
 "metadata": {
  "kernelspec": {
   "display_name": "Python 3 (ipykernel)",
   "language": "python",
   "name": "python3"
  },
  "language_info": {
   "codemirror_mode": {
    "name": "ipython",
    "version": 3
   },
   "file_extension": ".py",
   "mimetype": "text/x-python",
   "name": "python",
   "nbconvert_exporter": "python",
   "pygments_lexer": "ipython3",
   "version": "3.12.4"
  }
 },
 "nbformat": 4,
 "nbformat_minor": 5
}
